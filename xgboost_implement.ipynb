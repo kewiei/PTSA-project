{
 "cells": [
  {
   "cell_type": "code",
   "execution_count": 1,
   "metadata": {},
   "outputs": [],
   "source": [
    "import numpy as np\n",
    "import xgboost as xgb\n",
    "import pandas as pd\n",
    "import gc\n",
    "from sklearn.metrics import accuracy_score,r2_score\n",
    "import matplotlib.pyplot as plt\n",
    "import time"
   ]
  },
  {
   "cell_type": "code",
   "execution_count": 2,
   "metadata": {},
   "outputs": [
    {
     "name": "stdout",
     "output_type": "stream",
     "text": [
      "It takes 469.4350907802582s to load data\n"
     ]
    }
   ],
   "source": [
    "starttime = time.time()\n",
    "# read in data\n",
    "mainFrame=pd.read_csv('20052007Small.csv',parse_dates=['date'])\n",
    "#model = joblib.load(r'C:\\Hedge Fund Project\\training\\modelv1.plk')\n",
    "mainFrame.set_index(['entityID','date'],inplace=True)\n",
    "#mainFrame=mainFrame20052018\n",
    "mainFrame.dropna(axis=0,inplace=True)\n",
    "mainFrame.sort_index(inplace=True)\n",
    "targets=mainFrame.iloc[:,-7:]\n",
    "features = mainFrame.iloc[:,:-7]\n",
    "gc.collect()\n",
    "endtime = time.time()\n",
    "print(\"It takes {}s to load data\".format(endtime-starttime))"
   ]
  },
  {
   "cell_type": "code",
   "execution_count": 3,
   "metadata": {},
   "outputs": [],
   "source": [
    "maskTrain=(mainFrame.index.get_level_values(1)>=str(2005)) & (mainFrame.index.get_level_values(1)<str(2006))\n",
    "\n",
    "maskTest=(mainFrame.index.get_level_values(1)>=str(2006)) & (mainFrame.index.get_level_values(1)<str(2007))\n",
    "\n",
    "x_train=np.array(features[maskTrain])\n",
    "y_train=np.array(targets['ztargetMedian5'][maskTrain])\n",
    "x_train[np.isinf(x_train)]=100000000\n",
    "y_train=y_train*1\n",
    "y_train=y_train.astype(int)\n",
    "\n",
    "dtrain = xgb.DMatrix(x_train, label=y_train)\n",
    "# specify parameters via map\n",
    "param = {'max_depth':2, 'eta':1, 'objective':'binary:logistic' }\n",
    "num_round = 2\n",
    "model = xgb.train(param, dtrain, num_round)\n"
   ]
  },
  {
   "cell_type": "code",
   "execution_count": 4,
   "metadata": {},
   "outputs": [],
   "source": [
    "x_test=np.array(features[maskTest])\n",
    "y_test = np.array(targets['ztargetMedian5'][maskTest])\n",
    "x_test[np.isinf(x_test)]=100000000\n",
    "y_test=y_test*1\n",
    "y_test=y_test.astype(int)\n",
    "\n",
    "# pred1=model.predict_proba(test)\n",
    "dx_test = xgb.DMatrix(x_test)\n",
    "# make prediction\n",
    "pred1 = model.predict(dx_test)\n",
    "pred1 = np.array(pred1)"
   ]
  },
  {
   "cell_type": "code",
   "execution_count": 5,
   "metadata": {},
   "outputs": [
    {
     "name": "stdout",
     "output_type": "stream",
     "text": [
      "0.5038380099297526\n"
     ]
    }
   ],
   "source": [
    "pred1[pred1>0.5]=1\n",
    "pred1[pred1<=0.5]=0\n",
    "accuracy = accuracy_score(y_test,pred1)\n",
    "gc.collect()\n",
    "print(accuracy)"
   ]
  },
  {
   "cell_type": "code",
   "execution_count": null,
   "metadata": {},
   "outputs": [],
   "source": []
  }
 ],
 "metadata": {
  "kernelspec": {
   "display_name": "Python 3",
   "language": "python",
   "name": "python3"
  },
  "language_info": {
   "codemirror_mode": {
    "name": "ipython",
    "version": 3
   },
   "file_extension": ".py",
   "mimetype": "text/x-python",
   "name": "python",
   "nbconvert_exporter": "python",
   "pygments_lexer": "ipython3",
   "version": "3.7.4"
  }
 },
 "nbformat": 4,
 "nbformat_minor": 2
}
