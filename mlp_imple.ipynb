{
 "cells": [
  {
   "cell_type": "code",
   "execution_count": 1,
   "metadata": {},
   "outputs": [],
   "source": [
    "import tensorflow as tf\n",
    "from tensorflow import keras\n",
    "from tensorflow.keras import layers\n",
    "import time\n",
    "import pandas as pd\n",
    "import gc\n",
    "import numpy as np"
   ]
  },
  {
   "cell_type": "code",
   "execution_count": 2,
   "metadata": {},
   "outputs": [
    {
     "name": "stdout",
     "output_type": "stream",
     "text": [
      "It takes 55.18465185165405s to load data\n"
     ]
    }
   ],
   "source": [
    "starttime = time.time()\n",
    "# read in data\n",
    "mainFrame=pd.read_csv('20062007Small.csv',parse_dates=['date'])\n",
    "#model = joblib.load(r'C:\\Hedge Fund Project\\training\\modelv1.plk')\n",
    "mainFrame.set_index(['entityID','date'],inplace=True)\n",
    "#mainFrame=mainFrame20052018\n",
    "mainFrame.sort_index(inplace=True)\n",
    "targets=mainFrame.iloc[:,-7:]\n",
    "features = mainFrame.iloc[:,:-7]\n",
    "gc.collect()\n",
    "endtime = time.time()\n",
    "print(\"It takes {}s to load data\".format(endtime-starttime))"
   ]
  },
  {
   "cell_type": "code",
   "execution_count": 3,
   "metadata": {},
   "outputs": [],
   "source": [
    "maskTrain=(mainFrame.index.get_level_values(1)>='2006') & (mainFrame.index.get_level_values(1)<'2006-10-01')\n",
    "\n",
    "maskTest=(mainFrame.index.get_level_values(1)>='2006-10-01') & (mainFrame.index.get_level_values(1)<'2007')\n",
    "\n",
    "x_train=np.array(features[maskTrain])\n",
    "y_train=np.array(targets['ztargetMedian5'][maskTrain])\n",
    "x_train[np.isinf(x_train)]=100000000\n",
    "y_train=y_train*1\n",
    "y_train=y_train.astype(int)\n",
    "\n",
    "x_test=np.array(features[maskTest])\n",
    "y_test = np.array(targets['ztargetMedian5'][maskTest])\n",
    "x_test[np.isinf(x_test)]=100000000\n",
    "y_test=y_test*1\n",
    "y_test=y_test.astype(int)\n",
    "\n",
    "input_dims=x_train.shape[1]"
   ]
  },
  {
   "cell_type": "code",
   "execution_count": 4,
   "metadata": {},
   "outputs": [
    {
     "name": "stdout",
     "output_type": "stream",
     "text": [
      "Model: \"sequential\"\n",
      "_________________________________________________________________\n",
      "Layer (type)                 Output Shape              Param #   \n",
      "=================================================================\n",
      "dense (Dense)                (None, 32)                12096     \n",
      "_________________________________________________________________\n",
      "dense_1 (Dense)              (None, 32)                1056      \n",
      "_________________________________________________________________\n",
      "dense_2 (Dense)              (None, 32)                1056      \n",
      "_________________________________________________________________\n",
      "dense_3 (Dense)              (None, 1)                 33        \n",
      "=================================================================\n",
      "Total params: 14,241\n",
      "Trainable params: 14,241\n",
      "Non-trainable params: 0\n",
      "_________________________________________________________________\n"
     ]
    }
   ],
   "source": [
    "# Parameters\n",
    "model = keras.Sequential([\n",
    "    layers.Dense(32, activation='relu', input_shape=(input_dims,)),\n",
    "    layers.Dense(32, activation='relu'),\n",
    "    layers.Dense(32, activation='sigmoid'),\n",
    "    layers.Dense(1)\n",
    "])\n",
    "model.compile(optimizer=keras.optimizers.Adam(),\n",
    "             loss=keras.losses.binary_crossentropy,\n",
    "             metrics=['accuracy'])\n",
    "model.summary()"
   ]
  },
  {
   "cell_type": "code",
   "execution_count": 5,
   "metadata": {},
   "outputs": [
    {
     "name": "stdout",
     "output_type": "stream",
     "text": [
      "Train on 442966 samples, validate on 49219 samples\n",
      "Epoch 1/50\n",
      "442966/442966 [==============================] - 58s 131us/sample - loss: 0.8033 - accuracy: 0.5052 - val_loss: 0.6921 - val_accuracy: 0.5156\n",
      "Epoch 2/50\n",
      "442966/442966 [==============================] - 45s 102us/sample - loss: 0.6939 - accuracy: 0.5075 - val_loss: 0.6921 - val_accuracy: 0.5216\n",
      "Epoch 3/50\n",
      "442966/442966 [==============================] - 33s 76us/sample - loss: 0.6940 - accuracy: 0.5091 - val_loss: 0.6926 - val_accuracy: 0.5126\n",
      "Epoch 4/50\n",
      "442966/442966 [==============================] - 30s 69us/sample - loss: 0.6937 - accuracy: 0.5114 - val_loss: 0.6930 - val_accuracy: 0.5164\n",
      "Epoch 5/50\n",
      "442966/442966 [==============================] - 31s 70us/sample - loss: 0.6936 - accuracy: 0.5105 - val_loss: 0.6916 - val_accuracy: 0.5200\n",
      "Epoch 6/50\n",
      "442966/442966 [==============================] - 31s 69us/sample - loss: 0.6936 - accuracy: 0.5097 - val_loss: 0.6924 - val_accuracy: 0.5223\n",
      "Epoch 7/50\n",
      "442966/442966 [==============================] - 30s 68us/sample - loss: 0.6936 - accuracy: 0.5083 - val_loss: 0.6959 - val_accuracy: 0.4763\n",
      "Epoch 8/50\n",
      "442966/442966 [==============================] - 39s 89us/sample - loss: 0.6937 - accuracy: 0.5073 - val_loss: 0.6929 - val_accuracy: 0.5054\n",
      "Epoch 9/50\n",
      "442966/442966 [==============================] - 30s 69us/sample - loss: 0.6940 - accuracy: 0.5051 - val_loss: 0.6915 - val_accuracy: 0.5249\n",
      "Epoch 10/50\n",
      "442966/442966 [==============================] - 31s 70us/sample - loss: 0.6940 - accuracy: 0.5049 - val_loss: 0.6915 - val_accuracy: 0.5247\n",
      "Epoch 11/50\n",
      "442966/442966 [==============================] - 30s 68us/sample - loss: 0.6939 - accuracy: 0.5045 - val_loss: 0.6920 - val_accuracy: 0.5247\n",
      "Epoch 12/50\n",
      "442966/442966 [==============================] - 31s 69us/sample - loss: 0.6939 - accuracy: 0.5042 - val_loss: 0.6924 - val_accuracy: 0.5193\n",
      "Epoch 13/50\n",
      "442966/442966 [==============================] - 30s 68us/sample - loss: 0.6935 - accuracy: 0.5095 - val_loss: 0.6936 - val_accuracy: 0.5145\n",
      "Epoch 14/50\n",
      "442966/442966 [==============================] - 32s 72us/sample - loss: 0.6936 - accuracy: 0.5090 - val_loss: 0.6998 - val_accuracy: 0.4754\n",
      "Epoch 15/50\n",
      "442966/442966 [==============================] - 31s 70us/sample - loss: 0.6937 - accuracy: 0.5084 - val_loss: 0.7053 - val_accuracy: 0.4754\n",
      "Epoch 16/50\n",
      "442966/442966 [==============================] - 31s 70us/sample - loss: 0.6936 - accuracy: 0.5078 - val_loss: 0.6967 - val_accuracy: 0.4755\n",
      "Epoch 17/50\n",
      "442966/442966 [==============================] - 32s 72us/sample - loss: 0.6938 - accuracy: 0.5068 - val_loss: 0.6919 - val_accuracy: 0.5246\n",
      "Epoch 18/50\n",
      "442966/442966 [==============================] - 36s 81us/sample - loss: 0.6939 - accuracy: 0.5056 - val_loss: 0.6979 - val_accuracy: 0.4754\n",
      "Epoch 19/50\n",
      "442966/442966 [==============================] - 30s 68us/sample - loss: 0.6942 - accuracy: 0.4998 - val_loss: 0.6927 - val_accuracy: 0.5227\n",
      "Epoch 20/50\n",
      "442966/442966 [==============================] - 30s 69us/sample - loss: 0.6942 - accuracy: 0.5011 - val_loss: 0.6930 - val_accuracy: 0.5046\n",
      "Epoch 21/50\n",
      "442966/442966 [==============================] - 31s 70us/sample - loss: 0.6938 - accuracy: 0.5071 - val_loss: 0.6918 - val_accuracy: 0.5249\n",
      "Epoch 22/50\n",
      "442966/442966 [==============================] - 31s 69us/sample - loss: 0.6939 - accuracy: 0.5054 - val_loss: 0.6949 - val_accuracy: 0.4754\n",
      "Epoch 23/50\n",
      "442966/442966 [==============================] - 30s 67us/sample - loss: 0.6941 - accuracy: 0.5036 - val_loss: 0.6951 - val_accuracy: 0.4754\n",
      "Epoch 24/50\n",
      "442966/442966 [==============================] - 31s 69us/sample - loss: 0.6939 - accuracy: 0.5047 - val_loss: 0.6930 - val_accuracy: 0.5045\n",
      "Epoch 25/50\n",
      "442966/442966 [==============================] - 30s 67us/sample - loss: 0.6938 - accuracy: 0.5046 - val_loss: 0.6934 - val_accuracy: 0.5050\n",
      "Epoch 26/50\n",
      "442966/442966 [==============================] - 31s 69us/sample - loss: 0.6940 - accuracy: 0.5024 - val_loss: 0.6926 - val_accuracy: 0.5043\n",
      "Epoch 27/50\n",
      "442966/442966 [==============================] - 30s 68us/sample - loss: 0.6939 - accuracy: 0.5040 - val_loss: 0.6948 - val_accuracy: 0.4754\n",
      "Epoch 28/50\n",
      "442966/442966 [==============================] - 37s 83us/sample - loss: 0.6939 - accuracy: 0.5041 - val_loss: 0.6928 - val_accuracy: 0.4943\n",
      "Epoch 29/50\n",
      "442966/442966 [==============================] - 42s 94us/sample - loss: 0.6940 - accuracy: 0.5047 - val_loss: 0.6939 - val_accuracy: 0.4995\n",
      "Epoch 30/50\n",
      "442966/442966 [==============================] - 31s 70us/sample - loss: 0.6938 - accuracy: 0.5066 - val_loss: 0.6990 - val_accuracy: 0.4754\n",
      "Epoch 31/50\n",
      "442966/442966 [==============================] - 32s 73us/sample - loss: 0.6938 - accuracy: 0.5065 - val_loss: 0.6951 - val_accuracy: 0.5064\n",
      "Epoch 32/50\n",
      "442966/442966 [==============================] - 31s 70us/sample - loss: 0.6940 - accuracy: 0.5045 - val_loss: 0.6921 - val_accuracy: 0.5246\n",
      "Epoch 33/50\n",
      "442966/442966 [==============================] - 46s 105us/sample - loss: 0.6938 - accuracy: 0.5049 - val_loss: 0.6921 - val_accuracy: 0.5246\n",
      "Epoch 34/50\n",
      "442966/442966 [==============================] - 32s 71us/sample - loss: 0.6940 - accuracy: 0.5045 - val_loss: 0.7003 - val_accuracy: 0.4754\n",
      "Epoch 35/50\n",
      "442966/442966 [==============================] - 31s 69us/sample - loss: 0.6938 - accuracy: 0.5056 - val_loss: 0.6980 - val_accuracy: 0.4754\n",
      "Epoch 36/50\n",
      "442966/442966 [==============================] - 36s 81us/sample - loss: 0.6939 - accuracy: 0.5052 - val_loss: 0.6920 - val_accuracy: 0.5246\n",
      "Epoch 37/50\n",
      "442966/442966 [==============================] - 31s 71us/sample - loss: 0.6940 - accuracy: 0.5035 - val_loss: 0.6960 - val_accuracy: 0.4754\n",
      "Epoch 38/50\n",
      "442966/442966 [==============================] - 33s 74us/sample - loss: 0.6939 - accuracy: 0.5045 - val_loss: 0.7063 - val_accuracy: 0.4754\n",
      "Epoch 39/50\n",
      "442966/442966 [==============================] - 32s 72us/sample - loss: 0.6938 - accuracy: 0.5060 - val_loss: 0.6935 - val_accuracy: 0.4860\n",
      "Epoch 40/50\n",
      "442966/442966 [==============================] - 31s 71us/sample - loss: 0.6941 - accuracy: 0.5003 - val_loss: 0.6920 - val_accuracy: 0.5246\n",
      "Epoch 41/50\n",
      "442966/442966 [==============================] - 30s 67us/sample - loss: 0.6942 - accuracy: 0.5001 - val_loss: 0.6923 - val_accuracy: 0.5246\n",
      "Epoch 42/50\n",
      "442966/442966 [==============================] - 36s 80us/sample - loss: 0.6942 - accuracy: 0.4995 - val_loss: 0.6946 - val_accuracy: 0.4754\n",
      "Epoch 43/50\n",
      "442966/442966 [==============================] - 40s 90us/sample - loss: 0.6941 - accuracy: 0.5001 - val_loss: 0.6975 - val_accuracy: 0.4754\n",
      "Epoch 44/50\n",
      "442966/442966 [==============================] - 33s 75us/sample - loss: 0.6941 - accuracy: 0.4987 - val_loss: 0.6924 - val_accuracy: 0.5246\n",
      "Epoch 45/50\n",
      "442966/442966 [==============================] - 41s 92us/sample - loss: 0.6941 - accuracy: 0.5004 - val_loss: 0.6959 - val_accuracy: 0.4754\n",
      "Epoch 46/50\n",
      "442966/442966 [==============================] - 34s 77us/sample - loss: 0.6941 - accuracy: 0.5003 - val_loss: 0.6922 - val_accuracy: 0.5246\n",
      "Epoch 47/50\n",
      "442966/442966 [==============================] - 33s 75us/sample - loss: 0.6941 - accuracy: 0.5010 - val_loss: 0.6979 - val_accuracy: 0.4754\n",
      "Epoch 48/50\n",
      "442966/442966 [==============================] - 33s 75us/sample - loss: 0.6941 - accuracy: 0.4993 - val_loss: 0.6963 - val_accuracy: 0.4754\n",
      "Epoch 49/50\n",
      "442966/442966 [==============================] - 33s 73us/sample - loss: 0.6942 - accuracy: 0.4999 - val_loss: 0.6932 - val_accuracy: 0.4754\n",
      "Epoch 50/50\n",
      "442966/442966 [==============================] - 33s 74us/sample - loss: 0.6942 - accuracy: 0.5006 - val_loss: 0.6922 - val_accuracy: 0.5246\n"
     ]
    },
    {
     "data": {
      "text/plain": [
       "<tensorflow.python.keras.callbacks.History at 0x27cdebdb3c8>"
      ]
     },
     "execution_count": 5,
     "metadata": {},
     "output_type": "execute_result"
    }
   ],
   "source": [
    "model.fit(x_train, y_train, batch_size=50, epochs=50, validation_split=0.1, verbose=1)"
   ]
  },
  {
   "cell_type": "code",
   "execution_count": 7,
   "metadata": {},
   "outputs": [
    {
     "name": "stderr",
     "output_type": "stream",
     "text": [
      "IOPub data rate exceeded.\n",
      "The notebook server will temporarily stop sending output\n",
      "to the client in order to avoid crashing it.\n",
      "To change this limit, set the config variable\n",
      "`--NotebookApp.iopub_data_rate_limit`.\n",
      "\n",
      "Current values:\n",
      "NotebookApp.iopub_data_rate_limit=1000000.0 (bytes/sec)\n",
      "NotebookApp.rate_limit_window=3.0 (secs)\n",
      "\n"
     ]
    },
    {
     "name": "stdout",
     "output_type": "stream",
     "text": [
      "['loss', 'accuracy']\n",
      "[0.6932700236186291, 0.50387675]\n"
     ]
    }
   ],
   "source": [
    "result = model.evaluate(x_test, y_test)\n",
    "print(model.metrics_names)\n",
    "print(result)"
   ]
  },
  {
   "cell_type": "code",
   "execution_count": null,
   "metadata": {},
   "outputs": [],
   "source": []
  }
 ],
 "metadata": {
  "kernelspec": {
   "display_name": "Python 3",
   "language": "python",
   "name": "python3"
  },
  "language_info": {
   "codemirror_mode": {
    "name": "ipython",
    "version": 3
   },
   "file_extension": ".py",
   "mimetype": "text/x-python",
   "name": "python",
   "nbconvert_exporter": "python",
   "pygments_lexer": "ipython3",
   "version": "3.7.5"
  }
 },
 "nbformat": 4,
 "nbformat_minor": 2
}
