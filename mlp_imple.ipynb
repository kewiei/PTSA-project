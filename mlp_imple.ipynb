{
 "cells": [
  {
   "cell_type": "code",
   "execution_count": 1,
   "metadata": {},
   "outputs": [
    {
     "name": "stderr",
     "output_type": "stream",
     "text": [
      "C:\\Anaconda3\\envs\\time_series\\lib\\site-packages\\sklearn\\utils\\deprecation.py:144: FutureWarning: The sklearn.metrics.scorer module is  deprecated in version 0.22 and will be removed in version 0.24. The corresponding classes / functions should instead be imported from sklearn.metrics. Anything that cannot be imported from sklearn.metrics is now part of the private API.\n",
      "  warnings.warn(message, FutureWarning)\n",
      "C:\\Anaconda3\\envs\\time_series\\lib\\site-packages\\sklearn\\utils\\deprecation.py:144: FutureWarning: The sklearn.feature_selection.base module is  deprecated in version 0.22 and will be removed in version 0.24. The corresponding classes / functions should instead be imported from sklearn.feature_selection. Anything that cannot be imported from sklearn.feature_selection is now part of the private API.\n",
      "  warnings.warn(message, FutureWarning)\n"
     ]
    }
   ],
   "source": [
    "import tensorflow as tf\n",
    "from tensorflow import keras\n",
    "from tensorflow.keras import layers\n",
    "import time\n",
    "import pandas as pd\n",
    "import gc\n",
    "import numpy as np\n",
    "import os"
   ]
  },
  {
   "cell_type": "code",
   "execution_count": 2,
   "metadata": {},
   "outputs": [
    {
     "name": "stdout",
     "output_type": "stream",
     "text": [
      "It takes 282.0398168563843s to load data\n"
     ]
    }
   ],
   "source": [
    "starttime = time.time()\n",
    "# read in data\n",
    "mainFrame=pd.read_csv('20052007Small.csv',parse_dates=['date'])\n",
    "\n",
    "mainFrame.set_index(['entityID','date'],inplace=True)\n",
    "\n",
    "mainFrame.sort_index(inplace=True)\n",
    "targets=mainFrame.iloc[:,-7:]\n",
    "features = mainFrame.iloc[:,:-7]\n",
    "gc.collect()\n",
    "endtime = time.time()\n",
    "print(\"It takes {}s to load data\".format(endtime-starttime))"
   ]
  },
  {
   "cell_type": "code",
   "execution_count": 5,
   "metadata": {},
   "outputs": [],
   "source": [
    "def create_model(input_dims):\n",
    "    model = keras.Sequential([\n",
    "        layers.Dense(30, activation='relu',kernel_initializer='glorot_normal',bias_initializer='glorot_normal', input_shape=(input_dims,)),\n",
    "        layers.BatchNormalization(momentum=0.9),\n",
    "        layers.Dense(30, activation='relu',kernel_initializer='glorot_normal',bias_initializer='glorot_normal'),\n",
    "        layers.BatchNormalization(momentum=0.9),\n",
    "        layers.Dense(10, activation='relu',kernel_initializer='glorot_normal',bias_initializer='glorot_normal'),\n",
    "        layers.Dense(1, activation='sigmoid')\n",
    "    ])\n",
    "    model.compile(optimizer=keras.optimizers.Adam(),\n",
    "                 loss=keras.losses.binary_crossentropy,\n",
    "                 metrics=['accuracy'])\n",
    "    return model\n",
    "\n",
    "def trainAndPredictOneYear(year):\n",
    "    this_year = '{}'.format(year)\n",
    "    next_year = '{}'.format(year+1)\n",
    "    nextnext_year =  '{}'.format(year+2)\n",
    "    \n",
    "    print('Training on {} to predict {}'.format(this_year,next_year))\n",
    "    \n",
    "    maskTrain=(mainFrame.index.get_level_values(1)>=this_year) & (mainFrame.index.get_level_values(1)<next_year)\n",
    "    maskTest=(mainFrame.index.get_level_values(1)>=next_year) & (mainFrame.index.get_level_values(1)<nextnext_year)\n",
    "\n",
    "    x_train=np.array(features[maskTrain])\n",
    "    y_train=np.array(targets['ztargetMedian5'][maskTrain])\n",
    "    x_train[np.isinf(x_train)]=100000000\n",
    "    y_train=y_train*1\n",
    "    y_train=y_train.astype(int)\n",
    "\n",
    "    x_test=np.array(features[maskTest])\n",
    "    y_test = np.array(targets['ztargetMedian5'][maskTest])\n",
    "    x_test[np.isinf(x_test)]=100000000\n",
    "    y_test=y_test*1\n",
    "    y_test=y_test.astype(int)\n",
    "    \n",
    "    input_dims=x_train.shape[1]\n",
    "    #retrain the entire model\n",
    "    model = create_model(input_dims)\n",
    "    model.fit(x_train, y_train, batch_size=2000, epochs=50, \n",
    "          validation_split=0.1, verbose=1)\n",
    "    \n",
    "    result = model.predict(x_test)\n",
    "    result_holder = targets.loc[maskTest,'ztargetMedian5'].copy()\n",
    "    result_holder = pd.DataFrame(result_holder)\n",
    "    result_holder.loc[:,'ztargetMedian5'] = result\n",
    "    result_holder.to_csv('mlp_predict{}basedon{}.csv'.format(next_year,this_year))\n",
    "    "
   ]
  },
  {
   "cell_type": "code",
   "execution_count": 6,
   "metadata": {},
   "outputs": [
    {
     "name": "stdout",
     "output_type": "stream",
     "text": [
      "Training on 2005 to predict 2006\n",
      "Train on 230271 samples, validate on 25586 samples\n",
      "230271/230271 [==============================] - 99s 429us/sample - loss: 0.6942 - accuracy: 0.5110 - val_loss: 0.6930 - val_accuracy: 0.5072\n",
      "[[0.5188833 ]\n",
      " [0.5266193 ]\n",
      " [0.53584975]\n",
      " ...\n",
      " [0.5144947 ]\n",
      " [0.5131226 ]\n",
      " [0.51927567]]\n",
      "[[0.5188833 ]\n",
      " [0.5266193 ]\n",
      " [0.53584975]\n",
      " ...\n",
      " [0.5144947 ]\n",
      " [0.5131226 ]\n",
      " [0.51927567]]\n"
     ]
    }
   ],
   "source": [
    "#for this_year in range(2005,2014):\n",
    "for this_year in [2005]:\n",
    "    trainAndPredictOneYear(this_year)"
   ]
  },
  {
   "cell_type": "code",
   "execution_count": null,
   "metadata": {},
   "outputs": [],
   "source": []
  }
 ],
 "metadata": {
  "kernelspec": {
   "display_name": "Python 3",
   "language": "python",
   "name": "python3"
  },
  "language_info": {
   "codemirror_mode": {
    "name": "ipython",
    "version": 3
   },
   "file_extension": ".py",
   "mimetype": "text/x-python",
   "name": "python",
   "nbconvert_exporter": "python",
   "pygments_lexer": "ipython3",
   "version": "3.7.5"
  }
 },
 "nbformat": 4,
 "nbformat_minor": 2
}
