{
 "cells": [
  {
   "cell_type": "code",
   "execution_count": 1,
   "metadata": {},
   "outputs": [],
   "source": [
    "import tensorflow as tf\n",
    "from tensorflow import keras\n",
    "from tensorflow.keras import layers\n",
    "import time\n",
    "import pandas as pd\n",
    "import gc\n",
    "import numpy as np\n",
    "import os\n",
    "\n",
    "checkpoint_path = 'mlp_imple/cp-{epoch:04d}.ckpt'\n",
    "model_path = 'mlp_imple.h5'\n",
    "checkpoint_dir = os.path.dirname(checkpoint_path)"
   ]
  },
  {
   "cell_type": "code",
   "execution_count": 2,
   "metadata": {},
   "outputs": [
    {
     "name": "stdout",
     "output_type": "stream",
     "text": [
      "It takes 52.24381494522095s to load data\n"
     ]
    }
   ],
   "source": [
    "starttime = time.time()\n",
    "# read in data\n",
    "mainFrame=pd.read_csv('20062007Small.csv',parse_dates=['date'])\n",
    "#model = joblib.load(r'C:\\Hedge Fund Project\\training\\modelv1.plk')\n",
    "mainFrame.set_index(['entityID','date'],inplace=True)\n",
    "#mainFrame=mainFrame20052018\n",
    "mainFrame.sort_index(inplace=True)\n",
    "targets=mainFrame.iloc[:,-7:]\n",
    "features = mainFrame.iloc[:,:-7]\n",
    "gc.collect()\n",
    "endtime = time.time()\n",
    "print(\"It takes {}s to load data\".format(endtime-starttime))"
   ]
  },
  {
   "cell_type": "code",
   "execution_count": 3,
   "metadata": {},
   "outputs": [],
   "source": [
    "maskTrain=(mainFrame.index.get_level_values(1)>='2006') & (mainFrame.index.get_level_values(1)<'2006-10-01')\n",
    "\n",
    "maskTest=(mainFrame.index.get_level_values(1)>='2006-10-01') & (mainFrame.index.get_level_values(1)<'2007')\n",
    "\n",
    "x_train=np.array(features[maskTrain])\n",
    "y_train=np.array(targets['ztargetMedian5'][maskTrain])\n",
    "x_train[np.isinf(x_train)]=100000000\n",
    "y_train=y_train*1\n",
    "y_train=y_train.astype(int)\n",
    "\n",
    "x_test=np.array(features[maskTest])\n",
    "y_test = np.array(targets['ztargetMedian5'][maskTest])\n",
    "x_test[np.isinf(x_test)]=100000000\n",
    "y_test=y_test*1\n",
    "y_test=y_test.astype(int)\n",
    "\n",
    "input_dims=x_train.shape[1]"
   ]
  },
  {
   "cell_type": "code",
   "execution_count": 4,
   "metadata": {},
   "outputs": [
    {
     "name": "stdout",
     "output_type": "stream",
     "text": [
      "Model: \"sequential\"\n",
      "_________________________________________________________________\n",
      "Layer (type)                 Output Shape              Param #   \n",
      "=================================================================\n",
      "dense (Dense)                (None, 256)               96768     \n",
      "_________________________________________________________________\n",
      "dense_1 (Dense)              (None, 128)               32896     \n",
      "_________________________________________________________________\n",
      "dense_2 (Dense)              (None, 32)                4128      \n",
      "_________________________________________________________________\n",
      "dense_3 (Dense)              (None, 1)                 33        \n",
      "=================================================================\n",
      "Total params: 133,825\n",
      "Trainable params: 133,825\n",
      "Non-trainable params: 0\n",
      "_________________________________________________________________\n"
     ]
    }
   ],
   "source": [
    "# Parameters\n",
    "def create_model():\n",
    "    model = keras.Sequential([\n",
    "        layers.Dense(256, activation='relu', input_shape=(input_dims,)),\n",
    "        layers.Dense(128, activation='relu'),\n",
    "        layers.Dense(32, activation='sigmoid'),\n",
    "        layers.Dense(1)\n",
    "    ])\n",
    "    model.compile(optimizer=keras.optimizers.Adam(),\n",
    "                 loss=keras.losses.binary_crossentropy,\n",
    "                 metrics=['accuracy'])\n",
    "    return model\n",
    "\n",
    "# def loadlatestmodel():\n",
    "#     model = create_model()\n",
    "#     latest = tf.train.latest_checkpoint(checkpoint_dir)\n",
    "#     model.load_weights(latest)\n",
    "    \n",
    "model = create_model()\n",
    "# model = tf.keras.models.load_model(model_path)\n",
    "model.summary()"
   ]
  },
  {
   "cell_type": "code",
   "execution_count": null,
   "metadata": {},
   "outputs": [],
   "source": []
  },
  {
   "cell_type": "code",
   "execution_count": 5,
   "metadata": {},
   "outputs": [
    {
     "name": "stdout",
     "output_type": "stream",
     "text": [
      "WARNING:tensorflow:`period` argument is deprecated. Please use `save_freq` to specify the frequency in number of samples seen.\n",
      "Train on 442966 samples, validate on 49219 samples\n",
      "Epoch 1/50\n",
      "442966/442966 [==============================] - 48s 109us/sample - loss: 0.7737 - accuracy: 0.5040 - val_loss: 0.6952 - val_accuracy: 0.5001\n",
      "Epoch 2/50\n",
      "442966/442966 [==============================] - 37s 84us/sample - loss: 0.6941 - accuracy: 0.5064 - val_loss: 0.6970 - val_accuracy: 0.4754\n",
      "Epoch 3/50\n",
      "442966/442966 [==============================] - 37s 83us/sample - loss: 0.6948 - accuracy: 0.5080 - val_loss: 0.6967 - val_accuracy: 0.4903\n",
      "Epoch 4/50\n",
      "442966/442966 [==============================] - 37s 84us/sample - loss: 0.6939 - accuracy: 0.5091 - val_loss: 0.6956 - val_accuracy: 0.5087\n",
      "Epoch 5/50\n",
      "442350/442966 [============================>.] - ETA: 0s - loss: 0.6937 - accuracy: 0.5054\n",
      "Epoch 00005: saving model to mlp_imple/cp-0005.ckpt\n",
      "442966/442966 [==============================] - 37s 84us/sample - loss: 0.6937 - accuracy: 0.5054 - val_loss: 0.6921 - val_accuracy: 0.5140\n",
      "Epoch 6/50\n",
      "442966/442966 [==============================] - 31s 71us/sample - loss: 0.6939 - accuracy: 0.5016 - val_loss: 0.6920 - val_accuracy: 0.5246\n",
      "Epoch 7/50\n",
      "442966/442966 [==============================] - 32s 72us/sample - loss: 0.6939 - accuracy: 0.4994 - val_loss: 0.6919 - val_accuracy: 0.5246\n",
      "Epoch 8/50\n",
      "442966/442966 [==============================] - 32s 73us/sample - loss: 0.6940 - accuracy: 0.4991 - val_loss: 0.6920 - val_accuracy: 0.5246\n",
      "Epoch 9/50\n",
      "442966/442966 [==============================] - 36s 81us/sample - loss: 0.6939 - accuracy: 0.5001 - val_loss: 0.6938 - val_accuracy: 0.4754\n",
      "Epoch 10/50\n",
      "442500/442966 [============================>.] - ETA: 0s - loss: 0.6940 - accuracy: 0.5003\n",
      "Epoch 00010: saving model to mlp_imple/cp-0010.ckpt\n",
      "442966/442966 [==============================] - 33s 74us/sample - loss: 0.6940 - accuracy: 0.5003 - val_loss: 0.6940 - val_accuracy: 0.4754\n",
      "Epoch 11/50\n",
      "442966/442966 [==============================] - 44s 98us/sample - loss: 0.6940 - accuracy: 0.4992 - val_loss: 0.6924 - val_accuracy: 0.5246\n",
      "Epoch 12/50\n",
      "442966/442966 [==============================] - 35s 79us/sample - loss: 0.6939 - accuracy: 0.5001 - val_loss: 0.6931 - val_accuracy: 0.5246\n",
      "Epoch 13/50\n",
      "442966/442966 [==============================] - 33s 75us/sample - loss: 0.6940 - accuracy: 0.4996 - val_loss: 0.6961 - val_accuracy: 0.4754\n",
      "Epoch 14/50\n",
      "442966/442966 [==============================] - 38s 87us/sample - loss: 0.6939 - accuracy: 0.4999 - val_loss: 0.6924 - val_accuracy: 0.5246\n",
      "Epoch 15/50\n",
      "442650/442966 [============================>.] - ETA: 0s - loss: 0.6940 - accuracy: 0.5006\n",
      "Epoch 00015: saving model to mlp_imple/cp-0015.ckpt\n",
      "442966/442966 [==============================] - 57s 129us/sample - loss: 0.6940 - accuracy: 0.5005 - val_loss: 0.6922 - val_accuracy: 0.5246\n",
      "Epoch 16/50\n",
      "442966/442966 [==============================] - 43s 96us/sample - loss: 0.6940 - accuracy: 0.4990 - val_loss: 0.6920 - val_accuracy: 0.5246\n",
      "Epoch 17/50\n",
      "442966/442966 [==============================] - 38s 85us/sample - loss: 0.6940 - accuracy: 0.4994 - val_loss: 0.6935 - val_accuracy: 0.4754\n",
      "Epoch 18/50\n",
      "442966/442966 [==============================] - 38s 86us/sample - loss: 0.6939 - accuracy: 0.4997 - val_loss: 0.6922 - val_accuracy: 0.5246\n",
      "Epoch 19/50\n",
      "442966/442966 [==============================] - 34s 76us/sample - loss: 0.6939 - accuracy: 0.5001 - val_loss: 0.6919 - val_accuracy: 0.5246\n",
      "Epoch 20/50\n",
      "442450/442966 [============================>.] - ETA: 0s - loss: 0.6939 - accuracy: 0.4997\n",
      "Epoch 00020: saving model to mlp_imple/cp-0020.ckpt\n",
      "442966/442966 [==============================] - 38s 87us/sample - loss: 0.6939 - accuracy: 0.4996 - val_loss: 0.6966 - val_accuracy: 0.4754\n",
      "Epoch 21/50\n",
      "442966/442966 [==============================] - 37s 83us/sample - loss: 0.6940 - accuracy: 0.4996 - val_loss: 0.6947 - val_accuracy: 0.4754\n",
      "Epoch 22/50\n",
      "442966/442966 [==============================] - 43s 96us/sample - loss: 0.6939 - accuracy: 0.5022 - val_loss: 0.6938 - val_accuracy: 0.4754\n",
      "Epoch 23/50\n",
      "442966/442966 [==============================] - 40s 91us/sample - loss: 0.6940 - accuracy: 0.4989 - val_loss: 0.6972 - val_accuracy: 0.4754\n",
      "Epoch 24/50\n",
      "442966/442966 [==============================] - 33s 75us/sample - loss: 0.6940 - accuracy: 0.5014 - val_loss: 0.6975 - val_accuracy: 0.4754\n",
      "Epoch 25/50\n",
      "442700/442966 [============================>.] - ETA: 0s - loss: 0.6939 - accuracy: 0.4999\n",
      "Epoch 00025: saving model to mlp_imple/cp-0025.ckpt\n",
      "442966/442966 [==============================] - 31s 70us/sample - loss: 0.6939 - accuracy: 0.4999 - val_loss: 0.6932 - val_accuracy: 0.4754\n",
      "Epoch 26/50\n",
      "442966/442966 [==============================] - 33s 74us/sample - loss: 0.6940 - accuracy: 0.4991 - val_loss: 0.6935 - val_accuracy: 0.4754\n",
      "Epoch 27/50\n",
      "442966/442966 [==============================] - 34s 76us/sample - loss: 0.6940 - accuracy: 0.4998 - val_loss: 0.6920 - val_accuracy: 0.5246\n",
      "Epoch 28/50\n",
      "442966/442966 [==============================] - 34s 77us/sample - loss: 0.6940 - accuracy: 0.5000 - val_loss: 0.6926 - val_accuracy: 0.5246\n",
      "Epoch 29/50\n",
      "442966/442966 [==============================] - 32s 72us/sample - loss: 0.6939 - accuracy: 0.4996 - val_loss: 0.6924 - val_accuracy: 0.5246\n",
      "Epoch 30/50\n",
      "442500/442966 [============================>.] - ETA: 0s - loss: 0.6941 - accuracy: 0.4984\n",
      "Epoch 00030: saving model to mlp_imple/cp-0030.ckpt\n",
      "442966/442966 [==============================] - 32s 72us/sample - loss: 0.6941 - accuracy: 0.4984 - val_loss: 0.6976 - val_accuracy: 0.4754\n",
      "Epoch 31/50\n",
      "442966/442966 [==============================] - 33s 74us/sample - loss: 0.6940 - accuracy: 0.4988 - val_loss: 0.6926 - val_accuracy: 0.5246\n",
      "Epoch 32/50\n",
      "442966/442966 [==============================] - 31s 70us/sample - loss: 0.6939 - accuracy: 0.5008 - val_loss: 0.6951 - val_accuracy: 0.4754\n",
      "Epoch 33/50\n",
      "442966/442966 [==============================] - 32s 72us/sample - loss: 0.6939 - accuracy: 0.5001 - val_loss: 0.6920 - val_accuracy: 0.5246\n",
      "Epoch 34/50\n",
      "442966/442966 [==============================] - 31s 70us/sample - loss: 0.6940 - accuracy: 0.4997 - val_loss: 0.6935 - val_accuracy: 0.4754\n",
      "Epoch 35/50\n",
      "442200/442966 [============================>.] - ETA: 0s - loss: 0.6940 - accuracy: 0.5006\n",
      "Epoch 00035: saving model to mlp_imple/cp-0035.ckpt\n",
      "442966/442966 [==============================] - 32s 72us/sample - loss: 0.6940 - accuracy: 0.5006 - val_loss: 0.6932 - val_accuracy: 0.4754\n",
      "Epoch 36/50\n",
      "442966/442966 [==============================] - 31s 70us/sample - loss: 0.6939 - accuracy: 0.5002 - val_loss: 0.6922 - val_accuracy: 0.5246\n",
      "Epoch 37/50\n",
      "442966/442966 [==============================] - 32s 71us/sample - loss: 0.6940 - accuracy: 0.5000 - val_loss: 0.6941 - val_accuracy: 0.4754\n",
      "Epoch 38/50\n",
      "442966/442966 [==============================] - 31s 70us/sample - loss: 0.6939 - accuracy: 0.5003 - val_loss: 0.6930 - val_accuracy: 0.5246\n",
      "Epoch 39/50\n",
      "442966/442966 [==============================] - 32s 71us/sample - loss: 0.6940 - accuracy: 0.4983 - val_loss: 0.6921 - val_accuracy: 0.5246\n",
      "Epoch 40/50\n",
      "442550/442966 [============================>.] - ETA: 0s - loss: 0.6941 - accuracy: 0.4992\n",
      "Epoch 00040: saving model to mlp_imple/cp-0040.ckpt\n",
      "442966/442966 [==============================] - 31s 71us/sample - loss: 0.6941 - accuracy: 0.4992 - val_loss: 0.6982 - val_accuracy: 0.4754\n",
      "Epoch 41/50\n",
      "442966/442966 [==============================] - 32s 71us/sample - loss: 0.6940 - accuracy: 0.4987 - val_loss: 0.6926 - val_accuracy: 0.5246\n",
      "Epoch 42/50\n",
      "442966/442966 [==============================] - 31s 70us/sample - loss: 0.6940 - accuracy: 0.4995 - val_loss: 0.6926 - val_accuracy: 0.5246\n",
      "Epoch 43/50\n",
      "442966/442966 [==============================] - 32s 71us/sample - loss: 0.6940 - accuracy: 0.4990 - val_loss: 0.6925 - val_accuracy: 0.5246\n",
      "Epoch 44/50\n",
      "442966/442966 [==============================] - 31s 70us/sample - loss: 0.6939 - accuracy: 0.5004 - val_loss: 0.6934 - val_accuracy: 0.4754\n",
      "Epoch 45/50\n",
      "442400/442966 [============================>.] - ETA: 0s - loss: 0.6941 - accuracy: 0.4989\n",
      "Epoch 00045: saving model to mlp_imple/cp-0045.ckpt\n",
      "442966/442966 [==============================] - 32s 71us/sample - loss: 0.6941 - accuracy: 0.4989 - val_loss: 0.6939 - val_accuracy: 0.4754\n"
     ]
    },
    {
     "name": "stdout",
     "output_type": "stream",
     "text": [
      "Epoch 46/50\n",
      "442966/442966 [==============================] - 31s 71us/sample - loss: 0.6940 - accuracy: 0.5005 - val_loss: 0.6989 - val_accuracy: 0.4754\n",
      "Epoch 47/50\n",
      "442966/442966 [==============================] - 31s 71us/sample - loss: 0.6940 - accuracy: 0.4993 - val_loss: 0.6942 - val_accuracy: 0.4754\n",
      "Epoch 48/50\n",
      "442966/442966 [==============================] - 31s 70us/sample - loss: 0.6940 - accuracy: 0.4999 - val_loss: 0.6920 - val_accuracy: 0.5246\n",
      "Epoch 49/50\n",
      "442966/442966 [==============================] - 32s 71us/sample - loss: 0.6939 - accuracy: 0.4998 - val_loss: 0.6928 - val_accuracy: 0.5246\n",
      "Epoch 50/50\n",
      "442550/442966 [============================>.] - ETA: 0s - loss: 0.6940 - accuracy: 0.5009\n",
      "Epoch 00050: saving model to mlp_imple/cp-0050.ckpt\n",
      "442966/442966 [==============================] - 32s 72us/sample - loss: 0.6940 - accuracy: 0.5009 - val_loss: 0.6924 - val_accuracy: 0.5246\n"
     ]
    },
    {
     "data": {
      "text/plain": [
       "<tensorflow.python.keras.callbacks.History at 0x13729d6bc88>"
      ]
     },
     "execution_count": 5,
     "metadata": {},
     "output_type": "execute_result"
    }
   ],
   "source": [
    "# cp_callback = tf.keras.callbacks.ModelCheckpoint(filepath=checkpoint_path,\n",
    "#                                                  save_weights_only=True,\n",
    "#                                                  period=5,\n",
    "#                                                  verbose=1)\n",
    "# model.fit(x_train, y_train, batch_size=50, epochs=50, \n",
    "#           validation_split=0.1, verbose=1, callbacks=[cp_callback])\n",
    "model.fit(x_train, y_train, batch_size=50, epochs=50, \n",
    "          validation_split=0.1, verbose=1)"
   ]
  },
  {
   "cell_type": "code",
   "execution_count": 6,
   "metadata": {},
   "outputs": [
    {
     "name": "stderr",
     "output_type": "stream",
     "text": [
      "IOPub data rate exceeded.\n",
      "The notebook server will temporarily stop sending output\n",
      "to the client in order to avoid crashing it.\n",
      "To change this limit, set the config variable\n",
      "`--NotebookApp.iopub_data_rate_limit`.\n",
      "\n",
      "Current values:\n",
      "NotebookApp.iopub_data_rate_limit=1000000.0 (bytes/sec)\n",
      "NotebookApp.rate_limit_window=3.0 (secs)\n",
      "\n"
     ]
    },
    {
     "name": "stdout",
     "output_type": "stream",
     "text": [
      "['loss', 'accuracy']\n",
      "[0.6931644879746548, 0.50387675]\n"
     ]
    }
   ],
   "source": [
    "result = model.evaluate(x_test, y_test)\n",
    "print(model.metrics_names)\n",
    "print(result)\n",
    "model.save(model_path) "
   ]
  },
  {
   "cell_type": "code",
   "execution_count": null,
   "metadata": {},
   "outputs": [],
   "source": []
  }
 ],
 "metadata": {
  "kernelspec": {
   "display_name": "Python 3",
   "language": "python",
   "name": "python3"
  },
  "language_info": {
   "codemirror_mode": {
    "name": "ipython",
    "version": 3
   },
   "file_extension": ".py",
   "mimetype": "text/x-python",
   "name": "python",
   "nbconvert_exporter": "python",
   "pygments_lexer": "ipython3",
   "version": "3.7.5"
  }
 },
 "nbformat": 4,
 "nbformat_minor": 2
}
